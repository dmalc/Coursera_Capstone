{
    "cells": [
        {
            "cell_type": "code",
            "execution_count": 1,
            "metadata": {},
            "outputs": [],
            "source": "import numpy as np\nimport pandas as pd\nfrom sklearn.cluster import KMeans"
        },
        {
            "cell_type": "code",
            "execution_count": 2,
            "metadata": {},
            "outputs": [],
            "source": "url = 'https://en.wikipedia.org/wiki/List_of_postal_codes_of_Canada:_M'\ndf_list = pd.read_html(url)"
        },
        {
            "cell_type": "code",
            "execution_count": 3,
            "metadata": {},
            "outputs": [
                {
                    "data": {
                        "text/plain": "3"
                    },
                    "execution_count": 3,
                    "metadata": {},
                    "output_type": "execute_result"
                }
            ],
            "source": "len(df_list)"
        },
        {
            "cell_type": "code",
            "execution_count": 4,
            "metadata": {},
            "outputs": [
                {
                    "data": {
                        "text/plain": "[    Postal Code           Borough  \\\n 0           M1A      Not assigned   \n 1           M2A      Not assigned   \n 2           M3A        North York   \n 3           M4A        North York   \n 4           M5A  Downtown Toronto   \n ..          ...               ...   \n 175         M5Z      Not assigned   \n 176         M6Z      Not assigned   \n 177         M7Z      Not assigned   \n 178         M8Z         Etobicoke   \n 179         M9Z      Not assigned   \n \n                                          Neighbourhood  \n 0                                         Not assigned  \n 1                                         Not assigned  \n 2                                            Parkwoods  \n 3                                     Victoria Village  \n 4                            Regent Park, Harbourfront  \n ..                                                 ...  \n 175                                       Not assigned  \n 176                                       Not assigned  \n 177                                       Not assigned  \n 178  Mimico NW, The Queensway West, South of Bloor,...  \n 179                                       Not assigned  \n \n [180 rows x 3 columns],\n                                                   0   \\\n 0                                                NaN   \n 1  NL NS PE NB QC ON MB SK AB BC NU/NT YT A B C E...   \n 2                                                 NL   \n 3                                                  A   \n \n                                                   1   \\\n 0                              Canadian postal codes   \n 1  NL NS PE NB QC ON MB SK AB BC NU/NT YT A B C E...   \n 2                                                 NS   \n 3                                                  B   \n \n                                                   2    3    4    5    6    7   \\\n 0                                                NaN  NaN  NaN  NaN  NaN  NaN   \n 1  NL NS PE NB QC ON MB SK AB BC NU/NT YT A B C E...  NaN  NaN  NaN  NaN  NaN   \n 2                                                 PE   NB   QC   QC   QC   ON   \n 3                                                  C    E    G    H    J    K   \n \n     8    9    10   11   12   13   14   15     16   17  \n 0  NaN  NaN  NaN  NaN  NaN  NaN  NaN  NaN    NaN  NaN  \n 1  NaN  NaN  NaN  NaN  NaN  NaN  NaN  NaN    NaN  NaN  \n 2   ON   ON   ON   ON   MB   SK   AB   BC  NU/NT   YT  \n 3    L    M    N    P    R    S    T    V      X    Y  ,\n    0   1   2   3   4   5   6   7   8   9   10  11  12  13  14  15     16  17\n 0  NL  NS  PE  NB  QC  QC  QC  ON  ON  ON  ON  ON  MB  SK  AB  BC  NU/NT  YT\n 1   A   B   C   E   G   H   J   K   L   M   N   P   R   S   T   V      X   Y]"
                    },
                    "execution_count": 4,
                    "metadata": {},
                    "output_type": "execute_result"
                }
            ],
            "source": "df_list"
        },
        {
            "cell_type": "code",
            "execution_count": 5,
            "metadata": {},
            "outputs": [
                {
                    "data": {
                        "text/plain": "['Postal_Code', 'Borough', 'Neighborhood']"
                    },
                    "execution_count": 5,
                    "metadata": {},
                    "output_type": "execute_result"
                }
            ],
            "source": "column_names = ['Postal_Code', 'Borough', 'Neighborhood']\ncolumn_names"
        },
        {
            "cell_type": "code",
            "execution_count": 6,
            "metadata": {},
            "outputs": [
                {
                    "name": "stdout",
                    "output_type": "stream",
                    "text": "Package                     Version\n--------------------------- -------------------\nabsl-py                     0.9.0\naiohttp                     3.6.2\narcgis                      1.6.0\nastor                       0.8.0\nastropy                     4.0.1.post1\nasync-timeout               3.0.1\nattrs                       19.3.0\nazure-core                  1.8.0\nazure-cosmos                4.1.0\nbackcall                    0.2.0\nbeautifulsoup4              4.9.1\nbiopython                   1.77\nbleach                      3.1.5\nblinker                     1.4\nbokeh                       2.1.1\nboto3                       1.13.11\nbotocore                    1.16.11\nbrotlipy                    0.7.0\nca-data-connector           11.2.0\ncachetools                  4.1.1\ncassandra-driver            3.24.0\ncertifi                     2020.6.20\ncffi                        1.14.0\nchardet                     3.0.4\nclick                       7.1.2\ncloudpickle                 1.5.0\ncplex                       12.10.0.1\ncryptography                2.9.2\ncx-Oracle                   7.2.3\ncycler                      0.10.0\ncytoolz                     0.10.1\ndask                        2.20.0\ndecorator                   4.4.2\ndefusedxml                  0.6.0\ndill                        0.3.0\ndocloud                     1.0.375\ndocplex                     2.14.186\ndocutils                    0.15.2\nentrypoints                 0.3\nfastcache                   1.1.0\nfuture                      0.18.2\ngast                        0.2.2\ngeocoder                    1.38.1\ngeographiclib               1.50\ngeomet                      0.2.1.post1\ngeopy                       2.0.0\ngoogle-auth                 1.22.0\ngoogle-auth-oauthlib        0.4.1\ngoogle-pasta                0.2.0\ngrpcio                      1.27.2\nh5py                        2.10.0\nhtml5lib                    1.1\nibm-ai-openscale            2.2.1\nibm-cloud-sdk-core          3.2.0\nibm-cos-sdk                 2.7.0\nibm-cos-sdk-core            2.7.0\nibm-cos-sdk-s3transfer      2.7.0\nibm-db                      3.0.2\nibm-db-sa                   0.3.5\nibm-watson-machine-learning 1.0.34\nibm-watson-openscale        3.0.1\nibmdbpy                     0.1.6\nidna                        2.9\nimageio                     2.9.0\nimportlib-metadata          1.6.1\nipykernel                   5.3.0\nipython                     7.15.0\nipython-genutils            0.2.0\nipywidgets                  7.5.1\nJayDeBeApi                  1.2.3\njedi                        0.17.1\njeepney                     0.4\nJinja2                      2.11.2\njmespath                    0.9.4\njoblib                      0.16.0\nJPype1                      0.6.3\njson5                       0.9.5\njsonschema                  3.2.0\njupyter-client              6.1.3\njupyter-core                4.6.3\njupyterlab                  2.2.6\njupyterlab-server           1.1.0\nKeras-Applications          1.0.8\nKeras-Preprocessing         1.1.0\nkeyring                     18.0.0\nkiwisolver                  1.2.0\nlazy                        1.4\nlomond                      0.3.3\nlxml                        4.5.1\nMarkdown                    3.1.1\nMarkupSafe                  1.1.1\nmatplotlib                  3.2.2\nmistune                     0.8.4\nmkl-fft                     1.1.0\nmkl-random                  1.1.1\nmkl-service                 2.3.0\nmock                        4.0.2\nmore-itertools              8.4.0\nmpmath                      1.1.0\nmultidict                   4.7.6\nmysql-connector-python      8.0.21\nnbconvert                   5.6.1\nnbformat                    5.0.7\nnetworkx                    2.4\nnltk                        3.5\nnotebook                    6.0.3\nnumexpr                     2.7.1\nnumpy                       1.18.5\noauthlib                    3.1.0\nolefile                     0.46\nopt-einsum                  3.1.0\npackaging                   20.4\npandas                      1.0.5\npandocfilters               1.4.2\nparso                       0.7.0\npatsy                       0.5.1\npexpect                     4.8.0\npickleshare                 0.7.5\nPillow                      7.2.0\npip                         20.1.1\nplotly                      4.8.2\npluggy                      0.13.1\nproject-lib                 2.0.2\nprometheus-client           0.8.0\nprompt-toolkit              3.0.5\nprotobuf                    3.12.3\npsycopg2                    2.8.5\nptyprocess                  0.6.0\npy                          1.8.2\npyasn1                      0.4.8\npyasn1-modules              0.2.8\npycparser                   2.20\nPygments                    2.6.1\nPyJWT                       1.7.1\npymssql                     2.1.5\npyodbc                      4.0.0-unsupported\npyOpenSSL                   19.1.0\npyparsing                   2.4.7\npypyodbc                    1.3.4\npyrsistent                  0.16.0\npyshp                       2.1.0\nPySocks                     1.7.1\npytest                      5.4.3\npython-dateutil             2.8.1\npytz                        2020.1\nPyWavelets                  1.1.1\nPyYAML                      5.3.1\npyzmq                       19.0.1\nratelim                     0.1.6\nregex                       2020.6.8\nrequests                    2.24.0\nrequests-oauthlib           1.3.0\nretrying                    1.3.3\nrsa                         4.6\ns3transfer                  0.3.3\nscikit-image                0.16.2\nscikit-learn                0.23.1\nscipy                       1.5.0\nseaborn                     0.10.1\nSecretStorage               3.1.0\nSend2Trash                  1.5.0\nsetuptools                  47.3.1.post20200622\nsix                         1.15.0\nsnowballstemmer             2.0.0\nsoupsieve                   2.0.1\nSQLAlchemy                  1.3.17\nstatsmodels                 0.11.1\nstreamsx                    1.15.6\nsympy                       1.6.2\ntables                      3.6.1\ntabulate                    0.8.3\ntensorboard                 2.1.0\ntensorflow                  2.1.0\ntensorflow-estimator        2.1.0\ntermcolor                   1.1.0\nterminado                   0.8.3\ntestpath                    0.4.4\nthreadpoolctl               2.1.0\ntoolz                       0.10.0\ntorch                       1.3.1\ntornado                     6.0.4\ntqdm                        4.47.0\ntraitlets                   4.3.3\ntyping-extensions           3.7.4.2\nurllib3                     1.25.9\nwcwidth                     0.2.4\nwebencodings                0.5.1\nWerkzeug                    1.0.1\nwheel                       0.34.2\nwidgetsnbextension          3.5.1\nwrapt                       1.12.1\nxgboost                     0.90\nxlrd                        1.2.0\nXlsxWriter                  1.2.9\nyarl                        1.5.1\nzipp                        3.1.0\nNote: you may need to restart the kernel to use updated packages.\n"
                }
            ],
            "source": "pip list"
        },
        {
            "cell_type": "code",
            "execution_count": 7,
            "metadata": {},
            "outputs": [
                {
                    "data": {
                        "text/plain": "<function pandas.util._tester.test(extra_args=None)>"
                    },
                    "execution_count": 7,
                    "metadata": {},
                    "output_type": "execute_result"
                }
            ],
            "source": "pd.test"
        },
        {
            "cell_type": "code",
            "execution_count": null,
            "metadata": {},
            "outputs": [],
            "source": ""
        },
        {
            "cell_type": "code",
            "execution_count": null,
            "metadata": {},
            "outputs": [],
            "source": ""
        },
        {
            "cell_type": "code",
            "execution_count": 8,
            "metadata": {},
            "outputs": [
                {
                    "data": {
                        "text/plain": "[    Postal Code           Borough  \\\n 0           M1A      Not assigned   \n 1           M2A      Not assigned   \n 2           M3A        North York   \n 3           M4A        North York   \n 4           M5A  Downtown Toronto   \n ..          ...               ...   \n 175         M5Z      Not assigned   \n 176         M6Z      Not assigned   \n 177         M7Z      Not assigned   \n 178         M8Z         Etobicoke   \n 179         M9Z      Not assigned   \n \n                                          Neighbourhood  \n 0                                         Not assigned  \n 1                                         Not assigned  \n 2                                            Parkwoods  \n 3                                     Victoria Village  \n 4                            Regent Park, Harbourfront  \n ..                                                 ...  \n 175                                       Not assigned  \n 176                                       Not assigned  \n 177                                       Not assigned  \n 178  Mimico NW, The Queensway West, South of Bloor,...  \n 179                                       Not assigned  \n \n [180 rows x 3 columns],\n                                                   0   \\\n 0                                                NaN   \n 1  NL NS PE NB QC ON MB SK AB BC NU/NT YT A B C E...   \n 2                                                 NL   \n 3                                                  A   \n \n                                                   1   \\\n 0                              Canadian postal codes   \n 1  NL NS PE NB QC ON MB SK AB BC NU/NT YT A B C E...   \n 2                                                 NS   \n 3                                                  B   \n \n                                                   2    3    4    5    6    7   \\\n 0                                                NaN  NaN  NaN  NaN  NaN  NaN   \n 1  NL NS PE NB QC ON MB SK AB BC NU/NT YT A B C E...  NaN  NaN  NaN  NaN  NaN   \n 2                                                 PE   NB   QC   QC   QC   ON   \n 3                                                  C    E    G    H    J    K   \n \n     8    9    10   11   12   13   14   15     16   17  \n 0  NaN  NaN  NaN  NaN  NaN  NaN  NaN  NaN    NaN  NaN  \n 1  NaN  NaN  NaN  NaN  NaN  NaN  NaN  NaN    NaN  NaN  \n 2   ON   ON   ON   ON   MB   SK   AB   BC  NU/NT   YT  \n 3    L    M    N    P    R    S    T    V      X    Y  ,\n    0   1   2   3   4   5   6   7   8   9   10  11  12  13  14  15     16  17\n 0  NL  NS  PE  NB  QC  QC  QC  ON  ON  ON  ON  ON  MB  SK  AB  BC  NU/NT  YT\n 1   A   B   C   E   G   H   J   K   L   M   N   P   R   S   T   V      X   Y]"
                    },
                    "execution_count": 8,
                    "metadata": {},
                    "output_type": "execute_result"
                }
            ],
            "source": "df_list"
        },
        {
            "cell_type": "code",
            "execution_count": 9,
            "metadata": {},
            "outputs": [],
            "source": "df_list=df_list[0]"
        },
        {
            "cell_type": "code",
            "execution_count": 10,
            "metadata": {},
            "outputs": [
                {
                    "data": {
                        "text/html": "<div>\n<style scoped>\n    .dataframe tbody tr th:only-of-type {\n        vertical-align: middle;\n    }\n\n    .dataframe tbody tr th {\n        vertical-align: top;\n    }\n\n    .dataframe thead th {\n        text-align: right;\n    }\n</style>\n<table border=\"1\" class=\"dataframe\">\n  <thead>\n    <tr style=\"text-align: right;\">\n      <th></th>\n      <th>Postal Code</th>\n      <th>Borough</th>\n      <th>Neighbourhood</th>\n    </tr>\n  </thead>\n  <tbody>\n    <tr>\n      <th>0</th>\n      <td>M1A</td>\n      <td>Not assigned</td>\n      <td>Not assigned</td>\n    </tr>\n    <tr>\n      <th>1</th>\n      <td>M2A</td>\n      <td>Not assigned</td>\n      <td>Not assigned</td>\n    </tr>\n    <tr>\n      <th>2</th>\n      <td>M3A</td>\n      <td>North York</td>\n      <td>Parkwoods</td>\n    </tr>\n    <tr>\n      <th>3</th>\n      <td>M4A</td>\n      <td>North York</td>\n      <td>Victoria Village</td>\n    </tr>\n    <tr>\n      <th>4</th>\n      <td>M5A</td>\n      <td>Downtown Toronto</td>\n      <td>Regent Park, Harbourfront</td>\n    </tr>\n    <tr>\n      <th>...</th>\n      <td>...</td>\n      <td>...</td>\n      <td>...</td>\n    </tr>\n    <tr>\n      <th>175</th>\n      <td>M5Z</td>\n      <td>Not assigned</td>\n      <td>Not assigned</td>\n    </tr>\n    <tr>\n      <th>176</th>\n      <td>M6Z</td>\n      <td>Not assigned</td>\n      <td>Not assigned</td>\n    </tr>\n    <tr>\n      <th>177</th>\n      <td>M7Z</td>\n      <td>Not assigned</td>\n      <td>Not assigned</td>\n    </tr>\n    <tr>\n      <th>178</th>\n      <td>M8Z</td>\n      <td>Etobicoke</td>\n      <td>Mimico NW, The Queensway West, South of Bloor,...</td>\n    </tr>\n    <tr>\n      <th>179</th>\n      <td>M9Z</td>\n      <td>Not assigned</td>\n      <td>Not assigned</td>\n    </tr>\n  </tbody>\n</table>\n<p>180 rows \u00d7 3 columns</p>\n</div>",
                        "text/plain": "    Postal Code           Borough  \\\n0           M1A      Not assigned   \n1           M2A      Not assigned   \n2           M3A        North York   \n3           M4A        North York   \n4           M5A  Downtown Toronto   \n..          ...               ...   \n175         M5Z      Not assigned   \n176         M6Z      Not assigned   \n177         M7Z      Not assigned   \n178         M8Z         Etobicoke   \n179         M9Z      Not assigned   \n\n                                         Neighbourhood  \n0                                         Not assigned  \n1                                         Not assigned  \n2                                            Parkwoods  \n3                                     Victoria Village  \n4                            Regent Park, Harbourfront  \n..                                                 ...  \n175                                       Not assigned  \n176                                       Not assigned  \n177                                       Not assigned  \n178  Mimico NW, The Queensway West, South of Bloor,...  \n179                                       Not assigned  \n\n[180 rows x 3 columns]"
                    },
                    "execution_count": 10,
                    "metadata": {},
                    "output_type": "execute_result"
                }
            ],
            "source": "df_list"
        },
        {
            "cell_type": "code",
            "execution_count": null,
            "metadata": {},
            "outputs": [],
            "source": ""
        },
        {
            "cell_type": "code",
            "execution_count": 11,
            "metadata": {},
            "outputs": [],
            "source": "df_list=df_list[df_list.Borough  != 'Not assigned']\ndf_list.head()\n\ndf_list=df_list.rename(columns={'Postal Code':'PostalCode'})"
        },
        {
            "cell_type": "code",
            "execution_count": 12,
            "metadata": {},
            "outputs": [
                {
                    "data": {
                        "text/plain": "(103, 3)"
                    },
                    "execution_count": 12,
                    "metadata": {},
                    "output_type": "execute_result"
                }
            ],
            "source": "df_list.shape"
        },
        {
            "cell_type": "code",
            "execution_count": 13,
            "metadata": {},
            "outputs": [],
            "source": "df_list=df_list.reset_index(drop=True)"
        },
        {
            "cell_type": "code",
            "execution_count": 14,
            "metadata": {},
            "outputs": [
                {
                    "data": {
                        "text/html": "<div>\n<style scoped>\n    .dataframe tbody tr th:only-of-type {\n        vertical-align: middle;\n    }\n\n    .dataframe tbody tr th {\n        vertical-align: top;\n    }\n\n    .dataframe thead th {\n        text-align: right;\n    }\n</style>\n<table border=\"1\" class=\"dataframe\">\n  <thead>\n    <tr style=\"text-align: right;\">\n      <th></th>\n      <th>PostalCode</th>\n      <th>Borough</th>\n      <th>Neighbourhood</th>\n    </tr>\n  </thead>\n  <tbody>\n    <tr>\n      <th>0</th>\n      <td>M3A</td>\n      <td>North York</td>\n      <td>Parkwoods</td>\n    </tr>\n    <tr>\n      <th>1</th>\n      <td>M4A</td>\n      <td>North York</td>\n      <td>Victoria Village</td>\n    </tr>\n    <tr>\n      <th>2</th>\n      <td>M5A</td>\n      <td>Downtown Toronto</td>\n      <td>Regent Park, Harbourfront</td>\n    </tr>\n    <tr>\n      <th>3</th>\n      <td>M6A</td>\n      <td>North York</td>\n      <td>Lawrence Manor, Lawrence Heights</td>\n    </tr>\n    <tr>\n      <th>4</th>\n      <td>M7A</td>\n      <td>Downtown Toronto</td>\n      <td>Queen's Park, Ontario Provincial Government</td>\n    </tr>\n    <tr>\n      <th>...</th>\n      <td>...</td>\n      <td>...</td>\n      <td>...</td>\n    </tr>\n    <tr>\n      <th>98</th>\n      <td>M8X</td>\n      <td>Etobicoke</td>\n      <td>The Kingsway, Montgomery Road, Old Mill North</td>\n    </tr>\n    <tr>\n      <th>99</th>\n      <td>M4Y</td>\n      <td>Downtown Toronto</td>\n      <td>Church and Wellesley</td>\n    </tr>\n    <tr>\n      <th>100</th>\n      <td>M7Y</td>\n      <td>East Toronto</td>\n      <td>Business reply mail Processing Centre, South C...</td>\n    </tr>\n    <tr>\n      <th>101</th>\n      <td>M8Y</td>\n      <td>Etobicoke</td>\n      <td>Old Mill South, King's Mill Park, Sunnylea, Hu...</td>\n    </tr>\n    <tr>\n      <th>102</th>\n      <td>M8Z</td>\n      <td>Etobicoke</td>\n      <td>Mimico NW, The Queensway West, South of Bloor,...</td>\n    </tr>\n  </tbody>\n</table>\n<p>103 rows \u00d7 3 columns</p>\n</div>",
                        "text/plain": "    PostalCode           Borough  \\\n0          M3A        North York   \n1          M4A        North York   \n2          M5A  Downtown Toronto   \n3          M6A        North York   \n4          M7A  Downtown Toronto   \n..         ...               ...   \n98         M8X         Etobicoke   \n99         M4Y  Downtown Toronto   \n100        M7Y      East Toronto   \n101        M8Y         Etobicoke   \n102        M8Z         Etobicoke   \n\n                                         Neighbourhood  \n0                                            Parkwoods  \n1                                     Victoria Village  \n2                            Regent Park, Harbourfront  \n3                     Lawrence Manor, Lawrence Heights  \n4          Queen's Park, Ontario Provincial Government  \n..                                                 ...  \n98       The Kingsway, Montgomery Road, Old Mill North  \n99                                Church and Wellesley  \n100  Business reply mail Processing Centre, South C...  \n101  Old Mill South, King's Mill Park, Sunnylea, Hu...  \n102  Mimico NW, The Queensway West, South of Bloor,...  \n\n[103 rows x 3 columns]"
                    },
                    "execution_count": 14,
                    "metadata": {},
                    "output_type": "execute_result"
                }
            ],
            "source": "df_list"
        },
        {
            "cell_type": "code",
            "execution_count": 15,
            "metadata": {},
            "outputs": [
                {
                    "data": {
                        "text/plain": "(103, 3)"
                    },
                    "execution_count": 15,
                    "metadata": {},
                    "output_type": "execute_result"
                }
            ],
            "source": "df_list.shape"
        },
        {
            "cell_type": "code",
            "execution_count": 16,
            "metadata": {},
            "outputs": [],
            "source": "import geocoder"
        },
        {
            "cell_type": "code",
            "execution_count": 17,
            "metadata": {},
            "outputs": [],
            "source": "def get_geocoder(PostalCode):\n    lat_lng_coords = None \n    while(lat_lng_coords is None):\n        g = geocoder.arcgis('{}, Toronto, Ontario'.format(PostalCode))\n        lat_lng_coords = g.latlng\n        \n    latitude = lat_lng_coords[0]\n    longitude = lat_lng_coords[1]\n    return latitude,longitude"
        },
        {
            "cell_type": "code",
            "execution_count": 18,
            "metadata": {},
            "outputs": [],
            "source": "toronto=df_list\ntoronto['Longitude'], toronto['Latitude'] = zip(*toronto['PostalCode'].apply(get_geocoder))"
        },
        {
            "cell_type": "code",
            "execution_count": 19,
            "metadata": {},
            "outputs": [
                {
                    "data": {
                        "text/html": "<div>\n<style scoped>\n    .dataframe tbody tr th:only-of-type {\n        vertical-align: middle;\n    }\n\n    .dataframe tbody tr th {\n        vertical-align: top;\n    }\n\n    .dataframe thead th {\n        text-align: right;\n    }\n</style>\n<table border=\"1\" class=\"dataframe\">\n  <thead>\n    <tr style=\"text-align: right;\">\n      <th></th>\n      <th>PostalCode</th>\n      <th>Borough</th>\n      <th>Neighbourhood</th>\n      <th>Longitude</th>\n      <th>Latitude</th>\n    </tr>\n  </thead>\n  <tbody>\n    <tr>\n      <th>0</th>\n      <td>M3A</td>\n      <td>North York</td>\n      <td>Parkwoods</td>\n      <td>43.75245</td>\n      <td>-79.32991</td>\n    </tr>\n    <tr>\n      <th>1</th>\n      <td>M4A</td>\n      <td>North York</td>\n      <td>Victoria Village</td>\n      <td>43.73057</td>\n      <td>-79.31306</td>\n    </tr>\n    <tr>\n      <th>2</th>\n      <td>M5A</td>\n      <td>Downtown Toronto</td>\n      <td>Regent Park, Harbourfront</td>\n      <td>43.65512</td>\n      <td>-79.36264</td>\n    </tr>\n    <tr>\n      <th>3</th>\n      <td>M6A</td>\n      <td>North York</td>\n      <td>Lawrence Manor, Lawrence Heights</td>\n      <td>43.72327</td>\n      <td>-79.45042</td>\n    </tr>\n    <tr>\n      <th>4</th>\n      <td>M7A</td>\n      <td>Downtown Toronto</td>\n      <td>Queen's Park, Ontario Provincial Government</td>\n      <td>43.66253</td>\n      <td>-79.39188</td>\n    </tr>\n    <tr>\n      <th>...</th>\n      <td>...</td>\n      <td>...</td>\n      <td>...</td>\n      <td>...</td>\n      <td>...</td>\n    </tr>\n    <tr>\n      <th>98</th>\n      <td>M8X</td>\n      <td>Etobicoke</td>\n      <td>The Kingsway, Montgomery Road, Old Mill North</td>\n      <td>43.65319</td>\n      <td>-79.51113</td>\n    </tr>\n    <tr>\n      <th>99</th>\n      <td>M4Y</td>\n      <td>Downtown Toronto</td>\n      <td>Church and Wellesley</td>\n      <td>43.66659</td>\n      <td>-79.38133</td>\n    </tr>\n    <tr>\n      <th>100</th>\n      <td>M7Y</td>\n      <td>East Toronto</td>\n      <td>Business reply mail Processing Centre, South C...</td>\n      <td>43.64869</td>\n      <td>-79.38544</td>\n    </tr>\n    <tr>\n      <th>101</th>\n      <td>M8Y</td>\n      <td>Etobicoke</td>\n      <td>Old Mill South, King's Mill Park, Sunnylea, Hu...</td>\n      <td>43.63278</td>\n      <td>-79.48945</td>\n    </tr>\n    <tr>\n      <th>102</th>\n      <td>M8Z</td>\n      <td>Etobicoke</td>\n      <td>Mimico NW, The Queensway West, South of Bloor,...</td>\n      <td>43.62513</td>\n      <td>-79.52681</td>\n    </tr>\n  </tbody>\n</table>\n<p>103 rows \u00d7 5 columns</p>\n</div>",
                        "text/plain": "    PostalCode           Borough  \\\n0          M3A        North York   \n1          M4A        North York   \n2          M5A  Downtown Toronto   \n3          M6A        North York   \n4          M7A  Downtown Toronto   \n..         ...               ...   \n98         M8X         Etobicoke   \n99         M4Y  Downtown Toronto   \n100        M7Y      East Toronto   \n101        M8Y         Etobicoke   \n102        M8Z         Etobicoke   \n\n                                         Neighbourhood  Longitude  Latitude  \n0                                            Parkwoods   43.75245 -79.32991  \n1                                     Victoria Village   43.73057 -79.31306  \n2                            Regent Park, Harbourfront   43.65512 -79.36264  \n3                     Lawrence Manor, Lawrence Heights   43.72327 -79.45042  \n4          Queen's Park, Ontario Provincial Government   43.66253 -79.39188  \n..                                                 ...        ...       ...  \n98       The Kingsway, Montgomery Road, Old Mill North   43.65319 -79.51113  \n99                                Church and Wellesley   43.66659 -79.38133  \n100  Business reply mail Processing Centre, South C...   43.64869 -79.38544  \n101  Old Mill South, King's Mill Park, Sunnylea, Hu...   43.63278 -79.48945  \n102  Mimico NW, The Queensway West, South of Bloor,...   43.62513 -79.52681  \n\n[103 rows x 5 columns]"
                    },
                    "execution_count": 19,
                    "metadata": {},
                    "output_type": "execute_result"
                }
            ],
            "source": "toronto"
        }
    ],
    "metadata": {
        "kernelspec": {
            "display_name": "Python 3.7",
            "language": "python",
            "name": "python3"
        },
        "language_info": {
            "codemirror_mode": {
                "name": "ipython",
                "version": 3
            },
            "file_extension": ".py",
            "mimetype": "text/x-python",
            "name": "python",
            "nbconvert_exporter": "python",
            "pygments_lexer": "ipython3",
            "version": "3.7.9"
        }
    },
    "nbformat": 4,
    "nbformat_minor": 1
}